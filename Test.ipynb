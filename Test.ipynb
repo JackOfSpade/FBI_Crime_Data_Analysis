{
 "cells": [
  {
   "cell_type": "code",
   "execution_count": null,
   "metadata": {},
   "outputs": [],
   "source": [
    "import pandas as pd\n",
    "\n",
    "df = pd.DataFrame(columns = [\"a\", \"b\", \"c\"], data = [[1, 2, 3], [4, 5, 6], [7, 8, 9]])\n",
    "\n",
    "print(df)\n",
    "print(len(df))\n",
    "print(df.index)"
   ]
  },
  {
   "cell_type": "code",
   "execution_count": 5,
   "metadata": {},
   "outputs": [
    {
     "name": "stdout",
     "output_type": "stream",
     "text": [
      "abc\n"
     ]
    }
   ],
   "source": [
    "a = \"abc\"\n",
    "a[0:1]\n",
    "b = a[0:1]\n",
    "print(a)"
   ]
  },
  {
   "cell_type": "code",
   "execution_count": 2,
   "metadata": {},
   "outputs": [
    {
     "name": "stdout",
     "output_type": "stream",
     "text": [
      "5\n",
      "5\n"
     ]
    }
   ],
   "source": [
    "for x in [1,2,3,4,5]:\n",
    "    a = x\n",
    "    \n",
    "print(a)\n",
    "print(x)"
   ]
  },
  {
   "cell_type": "code",
   "execution_count": 3,
   "metadata": {},
   "outputs": [
    {
     "name": "stdout",
     "output_type": "stream",
     "text": [
      "10\n",
      "10\n"
     ]
    }
   ],
   "source": [
    "a=b = 10\n",
    "print(a)\n",
    "a=30\n",
    "print(b)"
   ]
  },
  {
   "cell_type": "code",
   "execution_count": 3,
   "metadata": {},
   "outputs": [
    {
     "name": "stdout",
     "output_type": "stream",
     "text": [
      "[3. 5. 7. 9.]\n"
     ]
    }
   ],
   "source": [
    "import numpy as np\n",
    "x = [2, 4, 6, 8, 10]\n",
    "x = (x + np.roll(x, -1))[:-1] / 2.0\n",
    "print(x)"
   ]
  },
  {
   "cell_type": "code",
   "execution_count": 6,
   "metadata": {},
   "outputs": [
    {
     "name": "stdout",
     "output_type": "stream",
     "text": [
      "[1.5, 2.5, 3.5, 4.5]\n"
     ]
    }
   ],
   "source": [
    "import numpy as np\n",
    "def get_center_of_bin_edges(bin_edges):\n",
    "    bin_centers = []\n",
    "    \n",
    "    for x in np.arange(start=0, stop=len(bin_edges)-1, step=1):\n",
    "        bin_centers.append((bin_edges[x] + bin_edges[x + 1]) / 2.0)\n",
    "        \n",
    "    return bin_centers\n",
    "\n",
    "print(get_center_of_bin_edges([1,2,3,4,5]))\n"
   ]
  },
  {
   "cell_type": "code",
   "execution_count": 7,
   "metadata": {},
   "outputs": [
    {
     "name": "stdout",
     "output_type": "stream",
     "text": [
      "[1. 2. 3.]\n",
      "[1 2 3]\n"
     ]
    }
   ],
   "source": [
    "generated_data = np.empty(shape = (0, 0))\n",
    "generated_data = np.append(generated_data, [1,2,3])\n",
    "\n",
    "a = np.array([1,2,3])\n",
    "\n",
    "print(generated_data)\n",
    "print(a)"
   ]
  },
  {
   "cell_type": "code",
   "execution_count": 10,
   "metadata": {},
   "outputs": [
    {
     "name": "stdout",
     "output_type": "stream",
     "text": [
      "[1.         1.11111111 1.22222222 1.33333333 1.44444444 1.55555556\n",
      " 1.66666667 1.77777778 1.88888889 2.        ]\n"
     ]
    }
   ],
   "source": [
    "def generate_data(repetition_list, data_range_list):\n",
    "    generated_data = np.empty(shape=(0, 0))\n",
    "    for index, value in enumerate(repetition_list):\n",
    "        generated_data = np.append(generated_data, np.linspace(start=data_range_list[index][0], stop=data_range_list[index][0]+1, num=value))\n",
    "    return generated_data\n",
    "\n",
    "print(generate_data([10], [[1,5]]))"
   ]
  },
  {
   "cell_type": "code",
   "execution_count": null,
   "metadata": {},
   "outputs": [],
   "source": []
  }
 ],
 "metadata": {
  "kernelspec": {
   "display_name": "Python 3",
   "language": "python",
   "name": "python3"
  },
  "language_info": {
   "codemirror_mode": {
    "name": "ipython",
    "version": 3
   },
   "file_extension": ".py",
   "mimetype": "text/x-python",
   "name": "python",
   "nbconvert_exporter": "python",
   "pygments_lexer": "ipython3",
   "version": "3.7.6"
  }
 },
 "nbformat": 4,
 "nbformat_minor": 4
}
